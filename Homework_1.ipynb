{
 "cells": [
  {
   "cell_type": "markdown",
   "id": "ff495bcf",
   "metadata": {},
   "source": [
    "## Условие 2:"
   ]
  },
  {
   "cell_type": "markdown",
   "id": "8f476601",
   "metadata": {},
   "source": [
    "На складе лежат разные фрукты в разном количестве.\n",
    "Нужно написать функцию, которая на вход принимает любое количество названий фруктов и их количество, \n",
    "а возвращает общее количество фруктов на складе."
   ]
  },
  {
   "cell_type": "code",
   "execution_count": 49,
   "id": "24d072d3",
   "metadata": {},
   "outputs": [
    {
     "data": {
      "text/plain": [
       "40"
      ]
     },
     "execution_count": 49,
     "metadata": {},
     "output_type": "execute_result"
    }
   ],
   "source": [
    "def total_fruits(**fruit):\n",
    "    total_amount = 0\n",
    "    for amount in fruit.values():\n",
    "        total_amount += amount\n",
    "    return(total_amount)\n",
    "    \n",
    "total_fruits(bananas=5, orange=12, mango=8, lemon=15)    "
   ]
  },
  {
   "cell_type": "markdown",
   "id": "48dde42b",
   "metadata": {},
   "source": [
    "## Условие 3:"
   ]
  },
  {
   "cell_type": "markdown",
   "id": "d70c141d",
   "metadata": {},
   "source": [
    "Дан список с затратами на рекламу. Но в данных есть ошибки, некоторые затраты имеют отрицательную величину. Удалите такие значения из списка и посчитайте суммарные затраты.\n",
    "Используйте list comprehensions"
   ]
  },
  {
   "cell_type": "code",
   "execution_count": 39,
   "id": "b3857d50",
   "metadata": {},
   "outputs": [],
   "source": [
    "AD_costs = [100, 125, -90, 345, 655, -1, 0, 200]"
   ]
  },
  {
   "cell_type": "code",
   "execution_count": 41,
   "id": "e111f037",
   "metadata": {},
   "outputs": [
    {
     "name": "stdout",
     "output_type": "stream",
     "text": [
      "1425\n"
     ]
    }
   ],
   "source": [
    "total_amount = sum([cost for cost in AD_costs if i>0])\n",
    "print(total_amount)"
   ]
  },
  {
   "cell_type": "markdown",
   "id": "22fea49c",
   "metadata": {},
   "source": [
    "## Условие 4: \n",
    "Даны два списка:"
   ]
  },
  {
   "cell_type": "code",
   "execution_count": 3,
   "id": "393edf59",
   "metadata": {
    "scrolled": true
   },
   "outputs": [],
   "source": [
    "date_purchase = ['2021-09-14', '2021-12-15', '2021-09-08', '2021-12-05', '2021-10-09', '2021-09-30', '2021-12-22',\n",
    "                 '2021-11-29', '2021-12-24', '2021-11-26', '2021-10-27', '2021-12-18', '2021-11-09', '2021-11-23', \n",
    "                 '2021-09-27', '2021-10-02', '2021-12-27', '2021-09-20', '2021-12-13', '2021-11-01', '2021-11-09', \n",
    "                 '2021-12-06', '2021-12-08', '2021-10-09', '2021-10-31', '2021-09-30', '2021-11-09', '2021-12-13', \n",
    "                 '2021-10-26', '2021-12-09']"
   ]
  },
  {
   "cell_type": "code",
   "execution_count": 4,
   "id": "730e6f7c",
   "metadata": {},
   "outputs": [],
   "source": [
    "amount_purchase = [1270, 8413, 9028, 3703, 5739, 4095, 295, 4944, 5723, 3701, 4471, 651, 7037, 4274, 6275, 4988, \n",
    "                   6930, 2971, 6592, 2004, 2822, 519, 3406, 2732, 5015, 2008, 316, 6333, 5700, 2887]"
   ]
  },
  {
   "cell_type": "markdown",
   "id": "1253058c",
   "metadata": {},
   "source": [
    "### 4.1 Найдите, какая выручка у компании в ноябре\n",
    "Используйте list comprehensions"
   ]
  },
  {
   "cell_type": "code",
   "execution_count": 5,
   "id": "50fe8533",
   "metadata": {},
   "outputs": [
    {
     "name": "stdout",
     "output_type": "stream",
     "text": [
      "Выручка компании в ноябре: 25098\n"
     ]
    }
   ],
   "source": [
    "november_income = sum([amount for date, amount in zip(date_purchase, amount_purchase) \n",
    "                       if date.startswith('2021-11-')])\n",
    "print(f'Выручка компании в ноябре: {november_income}')"
   ]
  },
  {
   "cell_type": "markdown",
   "id": "efae1427",
   "metadata": {},
   "source": [
    "### Второй вариант поиска по подстрокам:\n",
    "Дополнила оба списка тремя новыми значениями для проверки."
   ]
  },
  {
   "cell_type": "code",
   "execution_count": 2,
   "id": "f762cd0e",
   "metadata": {},
   "outputs": [],
   "source": [
    "date_purchase_test = ['2021-09-14', '2021-12-15', '2021-09-08', '2021-12-05', '2021-10-09', '2021-09-30', '2021-12-22',\n",
    "                 '2021-11-29', '2021-12-24', '2021-11-26', '2021-10-27', '2021-12-18', '2021-11-09', '2021-11-23', \n",
    "                 '2021-09-27', '2021-10-02', '2021-12-27', '2021-09-20', '2021-12-13', '2021-11-01', '2021-11-09', \n",
    "                 '2021-12-06', '2021-12-08', '2021-10-09', '2021-10-31', '2021-09-30', '2021-11-09', '2021-12-13', \n",
    "                 '2021-10-26', '2021-12-09', '2022-11-09', '2022-11-08', '2022-12-01']"
   ]
  },
  {
   "cell_type": "code",
   "execution_count": 3,
   "id": "78adab81",
   "metadata": {},
   "outputs": [],
   "source": [
    "amount_purchase_test = [1270, 8413, 9028, 3703, 5739, 4095, 295, 4944, 5723, 3701, 4471, 651, 7037, 4274, 6275, 4988, \n",
    "                   6930, 2971, 6592, 2004, 2822, 519, 3406, 2732, 5015, 2008, 316, 6333, 5700, 2887, 3002, 4002, 2001]"
   ]
  },
  {
   "cell_type": "code",
   "execution_count": 4,
   "id": "e0fbba4e",
   "metadata": {},
   "outputs": [
    {
     "name": "stdout",
     "output_type": "stream",
     "text": [
      "Выручка компании в ноябре: 32102\n"
     ]
    }
   ],
   "source": [
    "november_income_test = sum([amount for date, amount in zip(date_purchase_test, amount_purchase_test) \n",
    "                       if '-11-' in date])\n",
    "print(f'Выручка компании в ноябре: {november_income_test}')"
   ]
  },
  {
   "cell_type": "markdown",
   "id": "5334ab52",
   "metadata": {},
   "source": [
    "### 4.2 Найдите выручку компании в зависимости от месяца\n",
    "Для этого напишите функцию, которая на вход принимает список с датами и список с выручкой, а на выходе словарь, где ключи - это месяцы, а значения - это выручка.\n",
    "Используйте аннотирование типов."
   ]
  },
  {
   "cell_type": "code",
   "execution_count": 10,
   "id": "249ffe5d",
   "metadata": {},
   "outputs": [
    {
     "name": "stdout",
     "output_type": "stream",
     "text": [
      "{'September': 25647, 'December': 45452, 'October': 28645, 'November': 25098}\n"
     ]
    }
   ],
   "source": [
    "from datetime import *\n",
    "\n",
    "def monthly_income(lst1: list[str], lst2: list[int]) -> dict:\n",
    "    income_month = {}\n",
    "    for date, amount in zip(lst1, lst2):\n",
    "        month = datetime.strptime(date, '%Y-%m-%d').strftime('%B')\n",
    "        if month in income_month:\n",
    "            income_month[month] += amount\n",
    "        else:\n",
    "            income_month[month] = amount\n",
    "    return income_month\n",
    "\n",
    "print(monthly_income(date_purchase, amount_purchase))\n",
    "        "
   ]
  },
  {
   "cell_type": "code",
   "execution_count": null,
   "id": "c2461a5b",
   "metadata": {},
   "outputs": [],
   "source": []
  }
 ],
 "metadata": {
  "kernelspec": {
   "display_name": "Python 3 (ipykernel)",
   "language": "python",
   "name": "python3"
  },
  "language_info": {
   "codemirror_mode": {
    "name": "ipython",
    "version": 3
   },
   "file_extension": ".py",
   "mimetype": "text/x-python",
   "name": "python",
   "nbconvert_exporter": "python",
   "pygments_lexer": "ipython3",
   "version": "3.11.3"
  }
 },
 "nbformat": 4,
 "nbformat_minor": 5
}
