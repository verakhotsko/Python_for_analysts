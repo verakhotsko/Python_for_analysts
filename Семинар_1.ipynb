{
 "cells": [
  {
   "cell_type": "markdown",
   "id": "34d76601",
   "metadata": {},
   "source": [
    "## Задание 1"
   ]
  },
  {
   "cell_type": "markdown",
   "id": "02b17235",
   "metadata": {},
   "source": [
    "### 1.1 Соедините два словаря в один"
   ]
  },
  {
   "cell_type": "code",
   "execution_count": 3,
   "id": "f67244e8",
   "metadata": {},
   "outputs": [
    {
     "data": {
      "text/plain": [
       "{'One': 1, 'Two': 2, 'Three': 3, 'Four': 4, 'Five': 5, 'Six': 6}"
      ]
     },
     "execution_count": 3,
     "metadata": {},
     "output_type": "execute_result"
    }
   ],
   "source": [
    "dict1 = {'One': 1, 'Two': 2, 'Three': 3}\n",
    "dict2 = {'Four': 4, 'Five': 5, 'Six': 6}\n",
    "\n",
    "dict1.update(dict2)\n",
    "dict1"
   ]
  },
  {
   "cell_type": "code",
   "execution_count": 4,
   "id": "41e1371d",
   "metadata": {},
   "outputs": [
    {
     "data": {
      "text/plain": [
       "{'One': 1, 'Two': 2, 'Three': 3, 'Four': 4, 'Five': 5, 'Six': 6}"
      ]
     },
     "execution_count": 4,
     "metadata": {},
     "output_type": "execute_result"
    }
   ],
   "source": [
    "dict1 = {'One': 1, 'Two': 2, 'Three': 3}\n",
    "dict2 = {'Four': 4, 'Five': 5, 'Six': 6}\n",
    "\n",
    "dict3 = dict1 | dict2 \n",
    "dict3"
   ]
  },
  {
   "cell_type": "code",
   "execution_count": 18,
   "id": "a01010a4",
   "metadata": {},
   "outputs": [
    {
     "ename": "SyntaxError",
     "evalue": "invalid syntax (115617420.py, line 5)",
     "output_type": "error",
     "traceback": [
      "\u001b[0;36m  Cell \u001b[0;32mIn[18], line 5\u001b[0;36m\u001b[0m\n\u001b[0;31m    d_merge = (**dict1,**dict2)\u001b[0m\n\u001b[0m               ^\u001b[0m\n\u001b[0;31mSyntaxError\u001b[0m\u001b[0;31m:\u001b[0m invalid syntax\n"
     ]
    }
   ],
   "source": [
    "dict1 = {'One': 1, 'Two': 2, 'Three': 3}\n",
    "dict2 = {'Four': 4, 'Five': 5, 'Six': 6}\n",
    "\n",
    "def merge_dict(d1, d2):\n",
    "    d_merge = (**dict1,**dict2)\n",
    "    return d_merge\n",
    "\n",
    "dict3 = merge_dict(dict1, dict2)\n",
    "print(dict3)"
   ]
  },
  {
   "cell_type": "markdown",
   "id": "aa4451fb",
   "metadata": {},
   "source": [
    "### 1.2 Напишите функцию, которая на вход принимает два словаря и возвращает один объединенный словарь"
   ]
  },
  {
   "cell_type": "code",
   "execution_count": 21,
   "id": "a09cfd8a",
   "metadata": {},
   "outputs": [
    {
     "name": "stdout",
     "output_type": "stream",
     "text": [
      "{'One': 1, 'Two': 2, 'Three': 3, 'Four': 4, 'Five': 5, 'Six': 6}\n"
     ]
    }
   ],
   "source": [
    "def merge_dict (d1: dict, d2: dict) -> dict:\n",
    "    for key, value in d2.items():\n",
    "            d1[key] = value\n",
    "    return d1\n",
    "    \n",
    "dict1 = {'One': 1, 'Two': 2, 'Three': 3}\n",
    "dict2 = {'Four': 4, 'Five': 5, 'Six': 6}    \n",
    "merge_dict(dict1, dict2)   "
   ]
  },
  {
   "cell_type": "code",
   "execution_count": 19,
   "id": "f61365c2",
   "metadata": {},
   "outputs": [
    {
     "data": {
      "text/plain": [
       "{'One': 1, 'Two': 2, 'Three': 3, 'Four': 4, 'Five': 5, 'Six': 6}"
      ]
     },
     "execution_count": 19,
     "metadata": {},
     "output_type": "execute_result"
    }
   ],
   "source": [
    "def merge_dict (d1: dict, d2: dict) -> dict:\n",
    "    for i in d2.keys():\n",
    "            d1[i] = d2[i]\n",
    "    return d1\n",
    "    \n",
    "dict1 = {'One': 1, 'Two': 2, 'Three': 3}\n",
    "dict2 = {'Four': 4, 'Five': 5, 'Six': 6}\n",
    "merge_dict(dict1, dict2)    "
   ]
  },
  {
   "cell_type": "markdown",
   "id": "4f135ed2",
   "metadata": {},
   "source": [
    "## Задание 2"
   ]
  },
  {
   "cell_type": "markdown",
   "id": "4ef86e39",
   "metadata": {},
   "source": [
    "### Напишите функцию, которая из двух списков, делает один словарь, где элементы из первого списка - ключи, а элементы из второго списка - значения"
   ]
  },
  {
   "cell_type": "markdown",
   "id": "cfbc9b7a",
   "metadata": {},
   "source": [
    "### 2.1 Используя цикл for"
   ]
  },
  {
   "cell_type": "code",
   "execution_count": null,
   "id": "0c5d2289",
   "metadata": {},
   "outputs": [],
   "source": [
    "keys = ['One', 'Two', 'Three']\n",
    "values = [1, 2, 3]"
   ]
  },
  {
   "cell_type": "code",
   "execution_count": 1,
   "id": "377928e5",
   "metadata": {},
   "outputs": [
    {
     "name": "stdout",
     "output_type": "stream",
     "text": [
      "CPU times: user 15 µs, sys: 1 µs, total: 16 µs\n",
      "Wall time: 18.8 µs\n"
     ]
    },
    {
     "data": {
      "text/plain": [
       "{'One': 1, 'Two': 2, 'Three': 3}"
      ]
     },
     "execution_count": 1,
     "metadata": {},
     "output_type": "execute_result"
    }
   ],
   "source": [
    "%%time\n",
    "def create_dict(l1: list, l2: list) -> dict:\n",
    "    my_dict = {}\n",
    "    for i in range(len(l1)):\n",
    "        my_dict[l1[i]] = l2[i]\n",
    "    return my_dict\n",
    "\n",
    "keys = ['One', 'Two', 'Three']\n",
    "values = [1, 2, 3]\n",
    "create_dict(keys, values)"
   ]
  },
  {
   "cell_type": "markdown",
   "id": "46bae2ac",
   "metadata": {},
   "source": [
    "### 2.2 Используя dict comprehensions"
   ]
  },
  {
   "cell_type": "code",
   "execution_count": 2,
   "id": "afdd4cf0",
   "metadata": {},
   "outputs": [
    {
     "name": "stdout",
     "output_type": "stream",
     "text": [
      "CPU times: user 35 µs, sys: 0 ns, total: 35 µs\n",
      "Wall time: 40.8 µs\n"
     ]
    },
    {
     "data": {
      "text/plain": [
       "{'One': 1, 'Two': 2, 'Three': 3}"
      ]
     },
     "execution_count": 2,
     "metadata": {},
     "output_type": "execute_result"
    }
   ],
   "source": [
    "%%time\n",
    "keys = ['One', 'Two', 'Three']\n",
    "values = [1, 2, 3]\n",
    "\n",
    "new_dict = {keys[i]: values[i] for i in range(len(keys))}\n",
    "new_dict"
   ]
  },
  {
   "cell_type": "markdown",
   "id": "2ab4b64b",
   "metadata": {},
   "source": [
    "### 2.3 Используя функцию zip.()"
   ]
  },
  {
   "cell_type": "code",
   "execution_count": 3,
   "id": "74557b09",
   "metadata": {},
   "outputs": [
    {
     "name": "stdout",
     "output_type": "stream",
     "text": [
      "CPU times: user 57 µs, sys: 0 ns, total: 57 µs\n",
      "Wall time: 69.1 µs\n"
     ]
    },
    {
     "data": {
      "text/plain": [
       "{'One': 1, 'Two': 2, 'Three': 3}"
      ]
     },
     "execution_count": 3,
     "metadata": {},
     "output_type": "execute_result"
    }
   ],
   "source": [
    "%%time\n",
    "keys = ['One', 'Two', 'Three']\n",
    "values = [1, 2, 3]\n",
    "\n",
    "new_dict = dict(zip(keys, values))\n",
    "new_dict"
   ]
  },
  {
   "cell_type": "markdown",
   "id": "1eef1bbc",
   "metadata": {},
   "source": [
    "## Задание 3"
   ]
  },
  {
   "cell_type": "markdown",
   "id": "50998e22",
   "metadata": {},
   "source": [
    "### Извлеките только два ключа name и age из представленного словаря"
   ]
  },
  {
   "cell_type": "code",
   "execution_count": 39,
   "id": "99305651",
   "metadata": {},
   "outputs": [],
   "source": [
    "client_dict = {\n",
    "    'name': 'John',\n",
    "    'age': 25,\n",
    "    'salary': 5000,\n",
    "    'city': 'Moskow'\n",
    "}\n",
    "\n",
    "client_dict.get('name')"
   ]
  },
  {
   "cell_type": "markdown",
   "id": "a9ac04c0",
   "metadata": {},
   "source": [
    "### 3.1 Напишите функцию с циклом for"
   ]
  },
  {
   "cell_type": "code",
   "execution_count": 47,
   "id": "620e540e",
   "metadata": {},
   "outputs": [
    {
     "data": {
      "text/plain": [
       "{'age': 25, 'city': 'Moskow'}"
      ]
     },
     "execution_count": 47,
     "metadata": {},
     "output_type": "execute_result"
    }
   ],
   "source": [
    "def key_get(d: dict, keys: list = ['name', 'age']) -> dict:\n",
    "    res_dict = {}\n",
    "    for k in keys:\n",
    "        res_dict[k] = d[k]\n",
    "    return res_dict\n",
    "   \n",
    "client_dict = {\n",
    "    'name': 'John',\n",
    "    'age': 25,\n",
    "    'salary': 5000,\n",
    "    'city': 'Moskow'\n",
    "}  \n",
    "\n",
    "key_get(client_dict, ['age', 'city'])"
   ]
  },
  {
   "cell_type": "markdown",
   "id": "9938dfed",
   "metadata": {},
   "source": [
    "### 3.2 Используя dict comprehensions"
   ]
  },
  {
   "cell_type": "code",
   "execution_count": 53,
   "id": "13503fbe",
   "metadata": {},
   "outputs": [
    {
     "data": {
      "text/plain": [
       "{'name': 'John', 'age': 25}"
      ]
     },
     "execution_count": 53,
     "metadata": {},
     "output_type": "execute_result"
    }
   ],
   "source": [
    "client_dict = {\n",
    "    'name': 'John',\n",
    "    'age': 25,\n",
    "    'salary': 5000,\n",
    "    'city': 'Moskow'\n",
    "}  \n",
    "\n",
    "new_dict = {key: client_dict[key] for key in ['name', 'age']}\n",
    "new_dict"
   ]
  },
  {
   "cell_type": "markdown",
   "id": "bb545999",
   "metadata": {},
   "source": [
    "## Задание 4"
   ]
  },
  {
   "cell_type": "markdown",
   "id": "303ceee3",
   "metadata": {},
   "source": [
    "### 4.1 Сгенерируйте случайные целые числа от 0 до 100 в количестве 5 штук с помощью модуля random"
   ]
  },
  {
   "cell_type": "code",
   "execution_count": 62,
   "id": "27190158",
   "metadata": {},
   "outputs": [
    {
     "name": "stdout",
     "output_type": "stream",
     "text": [
      "CPU times: user 56 µs, sys: 17 µs, total: 73 µs\n",
      "Wall time: 80.1 µs\n"
     ]
    },
    {
     "data": {
      "text/plain": [
       "[59, 79, 13, 47, 77]"
      ]
     },
     "execution_count": 62,
     "metadata": {},
     "output_type": "execute_result"
    }
   ],
   "source": [
    "%%time\n",
    "data = [i for i in range(0, 101)]\n",
    "random.sample(data, 5)"
   ]
  },
  {
   "cell_type": "code",
   "execution_count": 63,
   "id": "89730816",
   "metadata": {},
   "outputs": [
    {
     "name": "stdout",
     "output_type": "stream",
     "text": [
      "CPU times: user 76 µs, sys: 0 ns, total: 76 µs\n",
      "Wall time: 86.8 µs\n"
     ]
    },
    {
     "data": {
      "text/plain": [
       "[56, 19, 87, 3, 2]"
      ]
     },
     "execution_count": 63,
     "metadata": {},
     "output_type": "execute_result"
    }
   ],
   "source": [
    "%%time\n",
    "data = [random.randint(0, 100) for i in range(5)]\n",
    "data"
   ]
  },
  {
   "cell_type": "markdown",
   "id": "55cf0d2a",
   "metadata": {},
   "source": [
    "### Зафиксируйте псевдогенерацию"
   ]
  },
  {
   "cell_type": "code",
   "execution_count": 6,
   "id": "f7051672",
   "metadata": {},
   "outputs": [
    {
     "data": {
      "text/plain": [
       "[79, 32, 94, 45, 88]"
      ]
     },
     "execution_count": 6,
     "metadata": {},
     "output_type": "execute_result"
    }
   ],
   "source": [
    "import random\n",
    "random.seed(5)\n",
    "data = [i for i in range(0, 101)]\n",
    "random.sample(data, 5)"
   ]
  },
  {
   "cell_type": "markdown",
   "id": "fa979d77",
   "metadata": {},
   "source": [
    "### 4.2 Напишите генератор"
   ]
  },
  {
   "cell_type": "markdown",
   "id": "a88d6b7e",
   "metadata": {},
   "source": [
    "### - Генератор на вход принимает список с данными о клиенте (данные из пункта 4.1)\n",
    "### - Внутри генератора реализуйте обход по списку с данными"
   ]
  },
  {
   "cell_type": "code",
   "execution_count": 7,
   "id": "44dd4854",
   "metadata": {},
   "outputs": [
    {
     "name": "stdout",
     "output_type": "stream",
     "text": [
      "(0, 0)\n",
      "(1, 0)\n",
      "(2, 0)\n",
      "(3, 0)\n",
      "(4, 0)\n",
      "(5, 0)\n",
      "(6, 0)\n",
      "(7, 0)\n",
      "(8, 0)\n",
      "(9, 0)\n",
      "(10, 0)\n",
      "(11, 0)\n",
      "(12, 0)\n",
      "(13, 0)\n",
      "(14, 0)\n",
      "(15, 0)\n",
      "(16, 0)\n",
      "(17, 0)\n",
      "(18, 0)\n",
      "(19, 0)\n",
      "(20, 0)\n",
      "(21, 0)\n",
      "(22, 0)\n",
      "(23, 0)\n",
      "(24, 0)\n",
      "(25, 0)\n",
      "(26, 0)\n",
      "(27, 0)\n",
      "(28, 0)\n",
      "(29, 0)\n",
      "(30, 0)\n",
      "(31, 0)\n",
      "(32, 0)\n",
      "(33, 0)\n",
      "(34, 0)\n",
      "(35, 0)\n",
      "(36, 0)\n",
      "(37, 0)\n",
      "(38, 0)\n",
      "(39, 0)\n",
      "(40, 0)\n",
      "(41, 0)\n",
      "(42, 0)\n",
      "(43, 0)\n",
      "(44, 0)\n",
      "(45, 0)\n",
      "(46, 0)\n",
      "(47, 0)\n",
      "(48, 0)\n",
      "(49, 0)\n",
      "(50, 0)\n",
      "(51, 0)\n",
      "(52, 0)\n",
      "(53, 0)\n",
      "(54, 0)\n",
      "(55, 0)\n",
      "(56, 0)\n",
      "(57, 0)\n",
      "(58, 0)\n",
      "(59, 0)\n",
      "(60, 0)\n",
      "(61, 0)\n",
      "(62, 0)\n",
      "(63, 0)\n",
      "(64, 0)\n",
      "(65, 0)\n",
      "(66, 0)\n",
      "(67, 0)\n",
      "(68, 0)\n",
      "(69, 0)\n",
      "(70, 0)\n",
      "(71, 0)\n",
      "(72, 0)\n",
      "(73, 0)\n",
      "(74, 0)\n",
      "(75, 0)\n",
      "(76, 0)\n",
      "(77, 0)\n",
      "(78, 0)\n",
      "(79, 0)\n",
      "(80, 0)\n",
      "(81, 0)\n",
      "(82, 0)\n",
      "(83, 0)\n",
      "(84, 0)\n",
      "(85, 0)\n",
      "(86, 0)\n",
      "(87, 0)\n",
      "(88, 0)\n",
      "(89, 0)\n",
      "(90, 0)\n",
      "(91, 0)\n",
      "(92, 0)\n",
      "(93, 0)\n",
      "(94, 0)\n",
      "(95, 0)\n",
      "(96, 0)\n",
      "(97, 0)\n",
      "(98, 0)\n",
      "(99, 0)\n",
      "(100, 0)\n"
     ]
    }
   ],
   "source": [
    "import time\n",
    "\n",
    "def func(d):\n",
    "    last_time = time.time()\n",
    "    for el in d:\n",
    "        curr_time = time.time()\n",
    "        delta = int(curr_time - last_time)\n",
    "        yield el, delta\n",
    "        last_time = curr_time\n",
    "        \n",
    "for t in func(data):\n",
    "    print(t) \n",
    "time.sleep(2)"
   ]
  },
  {
   "cell_type": "markdown",
   "id": "4ae4880f",
   "metadata": {},
   "source": [
    "## Задание 5"
   ]
  },
  {
   "cell_type": "markdown",
   "id": "940ed54a",
   "metadata": {},
   "source": [
    "### 5.1 Найдите картинку в интернете и прикрепите её в ячейку с текстом"
   ]
  },
  {
   "cell_type": "code",
   "execution_count": 77,
   "id": "80328cda",
   "metadata": {},
   "outputs": [
    {
     "data": {
      "text/html": [
       "<img src=\"https://storge.pic2.me/c/1360x800/392/59c243921084f.jpg\" width=\"300\" height=\"300\"/>"
      ],
      "text/plain": [
       "<IPython.core.display.Image object>"
      ]
     },
     "execution_count": 77,
     "metadata": {},
     "output_type": "execute_result"
    }
   ],
   "source": [
    "from IPython.display import Image\n",
    "\n",
    "Image(url=\"https://storge.pic2.me/c/1360x800/392/59c243921084f.jpg\", width=300, height=300)"
   ]
  },
  {
   "cell_type": "markdown",
   "id": "c26d4c7b",
   "metadata": {},
   "source": [
    "### 5.2 Создайте следующую таблицу в ячейке с текстом"
   ]
  },
  {
   "attachments": {
    "tab%20for%20sem1.png": {
     "image/png": "[encoded data removed]"
    }
   },
   "cell_type": "markdown",
   "id": "f1596f6f",
   "metadata": {},
   "source": [
    "![tab%20for%20sem1.png](attachment:tab%20for%20sem1.png)"
   ]
  },
  {
   "cell_type": "markdown",
   "id": "ae58b781",
   "metadata": {},
   "source": [
    "<table>\n",
    "    <tr>\n",
    "        <td></td>\n",
    "        <td>до события</td>\n",
    "        <td>во время события</td>\n",
    "    </tr>\n",
    "    <tr>\n",
    "        <td>1 контрольная точка</td>\n",
    "        <td>250</td>\n",
    "        <td>500</td>\n",
    "    </tr>\n",
    "    <tr>\n",
    "        <td>2 контрольная точка</td>\n",
    "        <td>350</td>\n",
    "        <td>700</td>\n",
    "    </tr>\n",
    "    <tr>\n",
    "        <td>3 контрольная точка</td>\n",
    "        <td>400</td>\n",
    "        <td>800</td>\n",
    "    </tr>\n",
    "    <tr>\n",
    "        <td>Итого за победу</td>\n",
    "        <td>1000</td>\n",
    "        <td>2000</td>\n",
    "    </tr>\n",
    "</table>"
   ]
  },
  {
   "cell_type": "markdown",
   "id": "3dc2e26a",
   "metadata": {},
   "source": [
    "## Задание 6"
   ]
  },
  {
   "cell_type": "markdown",
   "id": "8a3b735a",
   "metadata": {},
   "source": [
    "### Напишите функцию, которая может принимать любое количество трат пользователя и считать сумму и среднее. \n",
    "### - На вход поступают целочисленные значения в любом количестве\n",
    "### - На выходе словарь с ключами суммы трат и средней траты"
   ]
  },
  {
   "cell_type": "code",
   "execution_count": 81,
   "id": "5fd25a78",
   "metadata": {},
   "outputs": [
    {
     "data": {
      "text/plain": [
       "{'сумма трат': 157, 'средняя трат': 31.4}"
      ]
     },
     "execution_count": 81,
     "metadata": {},
     "output_type": "execute_result"
    }
   ],
   "source": [
    "def calc(*args):\n",
    "    sum_args = sum(args)\n",
    "    medium_args = sum_args/len(args)\n",
    "    my_dict = {'сумма трат': sum_args, 'средняя трат': medium_args}\n",
    "    return my_dict\n",
    "    \n",
    "calc(24, 11, 56, 41, 25)    "
   ]
  },
  {
   "cell_type": "code",
   "execution_count": 83,
   "id": "14ae2651",
   "metadata": {},
   "outputs": [
    {
     "name": "stdout",
     "output_type": "stream",
     "text": [
      "{'apple': 5, 'bananas': 6, 'potatoes': 10}\n"
     ]
    }
   ],
   "source": [
    "def calc2(**kwargs):\n",
    "    print(kwargs)\n",
    "    \n",
    "calc2(apple=5, bananas=6, potatoes=10)    "
   ]
  }
 ],
 "metadata": {
  "kernelspec": {
   "display_name": "Python 3 (ipykernel)",
   "language": "python",
   "name": "python3"
  },
  "language_info": {
   "codemirror_mode": {
    "name": "ipython",
    "version": 3
   },
   "file_extension": ".py",
   "mimetype": "text/x-python",
   "name": "python",
   "nbconvert_exporter": "python",
   "pygments_lexer": "ipython3",
   "version": "3.11.3"
  }
 },
 "nbformat": 4,
 "nbformat_minor": 5
}
