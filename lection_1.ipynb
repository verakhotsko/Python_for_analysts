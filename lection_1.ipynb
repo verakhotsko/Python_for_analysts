{
 "cells": [
  {
   "cell_type": "code",
   "execution_count": 1,
   "id": "bcecab24",
   "metadata": {},
   "outputs": [
    {
     "data": {
      "text/plain": [
       "8"
      ]
     },
     "execution_count": 1,
     "metadata": {},
     "output_type": "execute_result"
    }
   ],
   "source": [
    "pow(2, 3)\n"
   ]
  },
  {
   "cell_type": "code",
   "execution_count": null,
   "id": "e8bed586",
   "metadata": {},
   "outputs": [],
   "source": [
    "# ctrl/ - комментирование\n",
    "# esc - переход врежим выполнения"
   ]
  },
  {
   "cell_type": "code",
   "execution_count": null,
   "id": "9267ad13",
   "metadata": {},
   "outputs": [],
   "source": [
    "# **Заголовок**\n"
   ]
  },
  {
   "cell_type": "code",
   "execution_count": 4,
   "id": "22123f4c",
   "metadata": {},
   "outputs": [
    {
     "data": {
      "text/plain": [
       "{'name': 'John', 'surname': 'Doe', 'age': 32}"
      ]
     },
     "execution_count": 4,
     "metadata": {},
     "output_type": "execute_result"
    }
   ],
   "source": [
    "client_data = {\n",
    "    'name': 'John',\n",
    "    'surname': 'Doe',\n",
    "    'age': 32\n",
    "}\n",
    "\n",
    "client_data\n"
   ]
  },
  {
   "cell_type": "code",
   "execution_count": 5,
   "id": "2711e436",
   "metadata": {},
   "outputs": [
    {
     "data": {
      "text/plain": [
       "'John'"
      ]
     },
     "execution_count": 5,
     "metadata": {},
     "output_type": "execute_result"
    }
   ],
   "source": [
    "client_data['name']"
   ]
  },
  {
   "cell_type": "code",
   "execution_count": 6,
   "id": "402472b1",
   "metadata": {},
   "outputs": [],
   "source": [
    "client_data.get('key')"
   ]
  },
  {
   "cell_type": "code",
   "execution_count": 7,
   "id": "9a11a258",
   "metadata": {},
   "outputs": [
    {
     "data": {
      "text/plain": [
       "32"
      ]
     },
     "execution_count": 7,
     "metadata": {},
     "output_type": "execute_result"
    }
   ],
   "source": [
    "client_data.get('age')"
   ]
  },
  {
   "cell_type": "code",
   "execution_count": 8,
   "id": "b62d1a83",
   "metadata": {},
   "outputs": [
    {
     "data": {
      "text/plain": [
       "dict_keys(['name', 'surname', 'age'])"
      ]
     },
     "execution_count": 8,
     "metadata": {},
     "output_type": "execute_result"
    }
   ],
   "source": [
    "client_data.keys()"
   ]
  },
  {
   "cell_type": "code",
   "execution_count": 9,
   "id": "c49d24f9",
   "metadata": {},
   "outputs": [
    {
     "data": {
      "text/plain": [
       "dict_values(['John', 'Doe', 32])"
      ]
     },
     "execution_count": 9,
     "metadata": {},
     "output_type": "execute_result"
    }
   ],
   "source": [
    "client_data.values()"
   ]
  },
  {
   "cell_type": "code",
   "execution_count": 10,
   "id": "78b03d17",
   "metadata": {},
   "outputs": [
    {
     "data": {
      "text/plain": [
       "dict_items([('name', 'John'), ('surname', 'Doe'), ('age', 32)])"
      ]
     },
     "execution_count": 10,
     "metadata": {},
     "output_type": "execute_result"
    }
   ],
   "source": [
    "client_data.items()"
   ]
  },
  {
   "cell_type": "code",
   "execution_count": 13,
   "id": "eeec9ad5",
   "metadata": {},
   "outputs": [
    {
     "name": "stdout",
     "output_type": "stream",
     "text": [
      "name:John\n",
      "surname:Doe\n",
      "age:32\n"
     ]
    }
   ],
   "source": [
    "for k, v in client_data.items():\n",
    "    print(f'{k}:{v}')"
   ]
  },
  {
   "cell_type": "code",
   "execution_count": 14,
   "id": "0f60dc58",
   "metadata": {},
   "outputs": [
    {
     "data": {
      "text/plain": [
       "{'name': 'John', 'surname': 'Doe', 'age': 32, 'heigth': 186}"
      ]
     },
     "execution_count": 14,
     "metadata": {},
     "output_type": "execute_result"
    }
   ],
   "source": [
    "client_data['heigth'] = 186\n",
    "client_data"
   ]
  },
  {
   "cell_type": "code",
   "execution_count": 15,
   "id": "c86f60ee",
   "metadata": {},
   "outputs": [
    {
     "data": {
      "text/plain": [
       "{'name': 'John', 'surname': 'Doe', 'age': 32, 'heigth': 184}"
      ]
     },
     "execution_count": 15,
     "metadata": {},
     "output_type": "execute_result"
    }
   ],
   "source": [
    "client_data['heigth'] = 184\n",
    "client_data"
   ]
  },
  {
   "cell_type": "code",
   "execution_count": 17,
   "id": "e142942d",
   "metadata": {},
   "outputs": [
    {
     "data": {
      "text/plain": [
       "32"
      ]
     },
     "execution_count": 17,
     "metadata": {},
     "output_type": "execute_result"
    }
   ],
   "source": [
    "client_data.setdefault('age', 34)"
   ]
  },
  {
   "cell_type": "code",
   "execution_count": 18,
   "id": "d162f5d1",
   "metadata": {},
   "outputs": [
    {
     "data": {
      "text/plain": [
       "{'name': 'John', 'surname': 'Doe', 'age': 32, 'heigth': 184}"
      ]
     },
     "execution_count": 18,
     "metadata": {},
     "output_type": "execute_result"
    }
   ],
   "source": [
    "client_data"
   ]
  },
  {
   "cell_type": "code",
   "execution_count": 20,
   "id": "d3a3376f",
   "metadata": {},
   "outputs": [
    {
     "data": {
      "text/plain": [
       "{'name': 'John', 'surname': 'Doe', 'age': 34, 'heigth': 184}"
      ]
     },
     "execution_count": 20,
     "metadata": {},
     "output_type": "execute_result"
    }
   ],
   "source": [
    "client_data.update({'age': 34})\n",
    "client_data"
   ]
  },
  {
   "cell_type": "markdown",
   "id": "6798afa2",
   "metadata": {},
   "source": [
    "# Модуль Random"
   ]
  },
  {
   "cell_type": "code",
   "execution_count": 21,
   "id": "23ea5113",
   "metadata": {},
   "outputs": [],
   "source": [
    "import random"
   ]
  },
  {
   "cell_type": "code",
   "execution_count": 23,
   "id": "680bc115",
   "metadata": {},
   "outputs": [
    {
     "data": {
      "text/plain": [
       "7"
      ]
     },
     "execution_count": 23,
     "metadata": {},
     "output_type": "execute_result"
    }
   ],
   "source": [
    "random.randint(0, 10)"
   ]
  },
  {
   "cell_type": "code",
   "execution_count": 26,
   "id": "ba75df0e",
   "metadata": {},
   "outputs": [
    {
     "data": {
      "text/plain": [
       "7"
      ]
     },
     "execution_count": 26,
     "metadata": {},
     "output_type": "execute_result"
    }
   ],
   "source": [
    "random.seed(9)\n",
    "random.randint(0, 10)"
   ]
  },
  {
   "cell_type": "code",
   "execution_count": 27,
   "id": "8cfb0b81",
   "metadata": {},
   "outputs": [
    {
     "data": {
      "text/plain": [
       "0.6132152331867212"
      ]
     },
     "execution_count": 27,
     "metadata": {},
     "output_type": "execute_result"
    }
   ],
   "source": [
    "random.random()"
   ]
  },
  {
   "cell_type": "code",
   "execution_count": 29,
   "id": "d31bc600",
   "metadata": {},
   "outputs": [
    {
     "data": {
      "text/plain": [
       "2.671344216059104"
      ]
     },
     "execution_count": 29,
     "metadata": {},
     "output_type": "execute_result"
    }
   ],
   "source": [
    "random.uniform(0, 10)"
   ]
  },
  {
   "cell_type": "code",
   "execution_count": 31,
   "id": "2464a368",
   "metadata": {},
   "outputs": [
    {
     "data": {
      "text/plain": [
       "['black', 'red']"
      ]
     },
     "execution_count": 31,
     "metadata": {},
     "output_type": "execute_result"
    }
   ],
   "source": [
    "list = ['black', 'red', 'yellow', 'green']\n",
    "random.sample(list, 2)"
   ]
  },
  {
   "cell_type": "code",
   "execution_count": 41,
   "id": "946bce4c",
   "metadata": {},
   "outputs": [
    {
     "data": {
      "text/plain": [
       "['red', 'yellow']"
      ]
     },
     "execution_count": 41,
     "metadata": {},
     "output_type": "execute_result"
    }
   ],
   "source": [
    "list = ['black', 'red', 'yellow', 'green']\n",
    "random.seed(3)\n",
    "random.sample(list, 2)"
   ]
  },
  {
   "cell_type": "code",
   "execution_count": 42,
   "id": "e9be2d9f",
   "metadata": {},
   "outputs": [
    {
     "data": {
      "text/plain": [
       "['black', 'yellow', 'green', 'red']"
      ]
     },
     "execution_count": 42,
     "metadata": {},
     "output_type": "execute_result"
    }
   ],
   "source": [
    "random.shuffle(list)\n",
    "list"
   ]
  },
  {
   "cell_type": "code",
   "execution_count": 43,
   "id": "42cf403c",
   "metadata": {},
   "outputs": [
    {
     "data": {
      "text/plain": [
       "'black'"
      ]
     },
     "execution_count": 43,
     "metadata": {},
     "output_type": "execute_result"
    }
   ],
   "source": [
    "random.choice(list)"
   ]
  },
  {
   "cell_type": "markdown",
   "id": "28a75f85",
   "metadata": {},
   "source": [
    "**Функции**"
   ]
  },
  {
   "cell_type": "code",
   "execution_count": 47,
   "id": "08bff587",
   "metadata": {},
   "outputs": [],
   "source": [
    "def calc_sum(a, b):\n",
    "    print(f'a = {a}')\n",
    "    print(f'b = {b}')\n",
    "    result = a + b\n",
    "    return result"
   ]
  },
  {
   "cell_type": "code",
   "execution_count": 48,
   "id": "1540ae17",
   "metadata": {},
   "outputs": [
    {
     "name": "stdout",
     "output_type": "stream",
     "text": [
      "a = 5\n",
      "b = 8\n"
     ]
    },
    {
     "data": {
      "text/plain": [
       "13"
      ]
     },
     "execution_count": 48,
     "metadata": {},
     "output_type": "execute_result"
    }
   ],
   "source": [
    "calc_sum(5, 8)"
   ]
  },
  {
   "cell_type": "code",
   "execution_count": 49,
   "id": "c632b6f6",
   "metadata": {},
   "outputs": [],
   "source": [
    "def my_range(start, end):\n",
    "    current = start\n",
    "    while current < end:\n",
    "        yield current\n",
    "        current += 1"
   ]
  },
  {
   "cell_type": "code",
   "execution_count": 50,
   "id": "1cbe577a",
   "metadata": {},
   "outputs": [
    {
     "data": {
      "text/plain": [
       "<generator object my_range at 0x7f272104c1e0>"
      ]
     },
     "execution_count": 50,
     "metadata": {},
     "output_type": "execute_result"
    }
   ],
   "source": [
    "ranger = my_range(0, 5)\n",
    "ranger"
   ]
  },
  {
   "cell_type": "code",
   "execution_count": 52,
   "id": "98166c43",
   "metadata": {},
   "outputs": [
    {
     "data": {
      "text/plain": [
       "1"
      ]
     },
     "execution_count": 52,
     "metadata": {},
     "output_type": "execute_result"
    }
   ],
   "source": [
    "next(ranger)"
   ]
  },
  {
   "cell_type": "code",
   "execution_count": 53,
   "id": "8657957e",
   "metadata": {},
   "outputs": [
    {
     "data": {
      "text/plain": [
       "2"
      ]
     },
     "execution_count": 53,
     "metadata": {},
     "output_type": "execute_result"
    }
   ],
   "source": [
    "next(ranger)"
   ]
  },
  {
   "cell_type": "code",
   "execution_count": 54,
   "id": "a30160c6",
   "metadata": {},
   "outputs": [
    {
     "name": "stdout",
     "output_type": "stream",
     "text": [
      "3\n",
      "4\n"
     ]
    }
   ],
   "source": [
    "for x in ranger:\n",
    "    print(x)"
   ]
  },
  {
   "cell_type": "code",
   "execution_count": 55,
   "id": "a837a2ba",
   "metadata": {},
   "outputs": [
    {
     "data": {
      "text/plain": [
       "[0, 1, 4, 9, 16]"
      ]
     },
     "execution_count": 55,
     "metadata": {},
     "output_type": "execute_result"
    }
   ],
   "source": [
    "list = []\n",
    "for i in range(5):\n",
    "    list.append(i*i)\n",
    "list    "
   ]
  },
  {
   "cell_type": "code",
   "execution_count": 56,
   "id": "2bbfa9e0",
   "metadata": {},
   "outputs": [
    {
     "data": {
      "text/plain": [
       "[0, 1, 4, 9, 16]"
      ]
     },
     "execution_count": 56,
     "metadata": {},
     "output_type": "execute_result"
    }
   ],
   "source": [
    "list = [i*i for i in range(5)]\n",
    "list"
   ]
  },
  {
   "cell_type": "code",
   "execution_count": 1,
   "id": "b1628fa8",
   "metadata": {},
   "outputs": [
    {
     "name": "stdout",
     "output_type": "stream",
     "text": [
      "[125, 0, 20, 103, 0, 16]\n"
     ]
    }
   ],
   "source": [
    "prices = [125, -6, 20, 103, -2, 16]\n",
    "new_prices = []\n",
    "for i in prices:\n",
    "    if i > 0:\n",
    "        new_prices.append(i)\n",
    "    else:\n",
    "        new_prices.append(0)\n",
    "print(new_prices)        "
   ]
  },
  {
   "cell_type": "code",
   "execution_count": 2,
   "id": "20eed10c",
   "metadata": {},
   "outputs": [
    {
     "name": "stdout",
     "output_type": "stream",
     "text": [
      "[125, 6, 20, 103, 2, 16]\n"
     ]
    }
   ],
   "source": [
    "prices = [125, -6, 20, 103, -2, 16]\n",
    "new_prices = []\n",
    "for i in prices:\n",
    "    if i < 0:\n",
    "        new_prices.append(i*(-1))\n",
    "    else:\n",
    "        new_prices.append(i)\n",
    "print(new_prices)  "
   ]
  },
  {
   "cell_type": "code",
   "execution_count": 5,
   "id": "5a838def",
   "metadata": {},
   "outputs": [
    {
     "data": {
      "text/plain": [
       "[125, 0, 20, 103, 0, 16]"
      ]
     },
     "execution_count": 5,
     "metadata": {},
     "output_type": "execute_result"
    }
   ],
   "source": [
    "prices = [125, -6, 20, 103, -2, 16]\n",
    "new_prices = [i if i > 0 else 0 for i in prices]\n",
    "new_prices"
   ]
  },
  {
   "cell_type": "code",
   "execution_count": 15,
   "id": "b8ac1028",
   "metadata": {},
   "outputs": [
    {
     "data": {
      "text/plain": [
       "[125, 6, 20, 103, 2, 16]"
      ]
     },
     "execution_count": 15,
     "metadata": {},
     "output_type": "execute_result"
    }
   ],
   "source": [
    "prices = [125, -6, 20, 103, -2, 16]\n",
    "new_prices = [i if i > 0 else i*(-1) for i in prices]\n",
    "new_prices"
   ]
  },
  {
   "cell_type": "code",
   "execution_count": 16,
   "id": "3ecaf3f9",
   "metadata": {},
   "outputs": [
    {
     "data": {
      "text/plain": [
       "[125, 0, 20, 103, 0, 16]"
      ]
     },
     "execution_count": 16,
     "metadata": {},
     "output_type": "execute_result"
    }
   ],
   "source": [
    "def get_price(price):\n",
    "    return price if price > 0 else 0\n",
    "new_prices = [get_price(i) for i in prices]\n",
    "new_prices\n"
   ]
  },
  {
   "cell_type": "code",
   "execution_count": 18,
   "id": "4dcf367e",
   "metadata": {},
   "outputs": [
    {
     "data": {
      "text/plain": [
       "{'black', 'green', 'red', 'yellow'}"
      ]
     },
     "execution_count": 18,
     "metadata": {},
     "output_type": "execute_result"
    }
   ],
   "source": [
    "colors = ['black', 'red', 'yellow', 'green', 'yellow', 'black']\n",
    "set_colors = {i for i in colors}\n",
    "set_colors"
   ]
  },
  {
   "cell_type": "code",
   "execution_count": 31,
   "id": "e398fbb9",
   "metadata": {},
   "outputs": [
    {
     "data": {
      "text/plain": [
       "{'black': 1, 'red': 2, 'yellow': 3, 'green': 4}"
      ]
     },
     "execution_count": 31,
     "metadata": {},
     "output_type": "execute_result"
    }
   ],
   "source": [
    "dict_colors = {'Black': 1, 'red': 2, 'Yellow': 3, 'green': 4}\n",
    "low_key = {key.lower(): value for key, value in  dict_colors.items()}\n",
    "low_key"
   ]
  },
  {
   "cell_type": "code",
   "execution_count": 38,
   "id": "cea54989",
   "metadata": {},
   "outputs": [
    {
     "name": "stdout",
     "output_type": "stream",
     "text": [
      "10\n"
     ]
    }
   ],
   "source": [
    "dict_colors = {'Black': 1, 'red': 2, 'Yellow': 3, 'green': 4}\n",
    "sum_value = sum(dict_colors.values())\n",
    "print(sum_value)"
   ]
  },
  {
   "cell_type": "code",
   "execution_count": 25,
   "id": "2f4ca2d4",
   "metadata": {},
   "outputs": [
    {
     "data": {
      "text/plain": [
       "['4451', '4451', '3850']"
      ]
     },
     "execution_count": 25,
     "metadata": {},
     "output_type": "execute_result"
    }
   ],
   "source": [
    "london_co = {\n",
    "    'r1' : {\n",
    "    'hostname': 'london_r1',\n",
    "    'location': '21 New Globe Walk',\n",
    "    'vendor': 'Cisco',\n",
    "    'model': '4451',\n",
    "    'ios': '15.4',\n",
    "    'ip': '10.255.0.1'\n",
    "    },\n",
    "    'r2' : {\n",
    "    'hostname': 'london_r2',\n",
    "    'location': '21 New Globe Walk',\n",
    "    'vendor': 'Cisco',\n",
    "    'model': '4451',\n",
    "    'ios': '15.4',\n",
    "    'ip': '10.255.0.2'\n",
    "    },\n",
    "    'sw1' : {\n",
    "    'hostname': 'london_sw1',\n",
    "    'location': '21 New Globe Walk',\n",
    "    'vendor': 'Cisco',\n",
    "    'model': '3850',\n",
    "    'ios': '3.6.XE',\n",
    "    'ip': '10.255.0.101'\n",
    "    }\n",
    "}\n",
    "\n",
    "list_model = [london_co[key_1]['model'] for key_1 in london_co]\n",
    "list_model"
   ]
  },
  {
   "cell_type": "markdown",
   "id": "a6483cd0",
   "metadata": {},
   "source": [
    "*Homework_2"
   ]
  },
  {
   "cell_type": "code",
   "execution_count": 12,
   "id": "daf458df",
   "metadata": {},
   "outputs": [
    {
     "name": "stdout",
     "output_type": "stream",
     "text": [
      "1425\n"
     ]
    }
   ],
   "source": [
    "ad_costs = [100, 125, -90, 345, 655, -1, 0, 200]\n",
    "correct_ad_costs = [i for i in ad_costs if i>0]\n",
    "correct_ad_costs\n",
    "total_amount = [cost for cost in correct_ad_costs]\n",
    "print(sum(total_amount))"
   ]
  },
  {
   "cell_type": "markdown",
   "id": "5e3f03b3",
   "metadata": {},
   "source": [
    "*Homework_3"
   ]
  },
  {
   "cell_type": "code",
   "execution_count": 2,
   "id": "660c7f8d",
   "metadata": {},
   "outputs": [
    {
     "name": "stdout",
     "output_type": "stream",
     "text": [
      "['20210914', '20211215', '20210908', '20211205', '20211009', '20210930', '20211222', '20211129', '20211224', '20211126', '20211027', '20211218', '20211109', '20211123', '20210927', '20211002', '20211227', '20210920', '20211213', '20211101', '20211109', '20211206', '20211208', '20211009', '20211031', '20210930', '20211109', '20211213', '20211026', '20211209']\n"
     ]
    }
   ],
   "source": [
    "date_buying = ['2021-09-14', '2021-12-15', '2021-09-08', '2021-12-05', '2021-10-09', '2021-09-30', '2021-12-22', '2021-11-29', '2021-12-24', '2021-11-26', '2021-10-27', '2021-12-18', '2021-11-09', '2021-11-23', '2021-09-27', '2021-10-02', '2021-12-27', '2021-09-20', '2021-12-13', '2021-11-01', '2021-11-09', '2021-12-06', '2021-12-08', '2021-10-09', '2021-10-31', '2021-09-30', '2021-11-09', '2021-12-13', '2021-10-26', '2021-12-09']\n",
    "amount_buying = [1270, 8413, 9028, 3703, 5739, 4095, 295, 4944, 5723, 3701, 4471, 651, 7037, 4274, 6275, 4988, 6930, 2971, 6592, 2004, 2822, 519, 3406, 2732, 5015, 2008, 316, 6333, 5700, 2887]\n",
    "date_buying_1 = []\n",
    "for date in date_buying:\n",
    "    date = date.replace('-', '')\n",
    "    date_buying_1.append(date)\n",
    "print(date_buying_1)\n",
    "\n"
   ]
  },
  {
   "cell_type": "code",
   "execution_count": null,
   "id": "526e6720",
   "metadata": {},
   "outputs": [],
   "source": []
  }
 ],
 "metadata": {
  "kernelspec": {
   "display_name": "Python 3 (ipykernel)",
   "language": "python",
   "name": "python3"
  },
  "language_info": {
   "codemirror_mode": {
    "name": "ipython",
    "version": 3
   },
   "file_extension": ".py",
   "mimetype": "text/x-python",
   "name": "python",
   "nbconvert_exporter": "python",
   "pygments_lexer": "ipython3",
   "version": "3.11.3"
  }
 },
 "nbformat": 4,
 "nbformat_minor": 5
}
